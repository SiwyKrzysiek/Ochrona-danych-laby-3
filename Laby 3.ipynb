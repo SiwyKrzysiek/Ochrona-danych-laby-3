{
 "cells": [
  {
   "cell_type": "markdown",
   "metadata": {},
   "source": [
    "# Szyfrowanie blokowe"
   ]
  },
  {
   "cell_type": "markdown",
   "metadata": {},
   "source": [
    "## Tryby kodowania\n",
    "\n",
    "Ponieważ wiadomości, jakie chcemy zakodować, są zwykle znacznie większe od rozmiaru bloku, musimy używać jakiegoś trybu kodowania. Najbardziej naiwne podzielenie wiadomości na bloki odpowiednich rozmiarów i zakodowanie osobno każdego z nich (ECB) nie zapewnia nam bezpieczeństwa.\n",
    "\n",
    "### ECB\n",
    "\n",
    "Tryb elektronicznej książki kodowej (ang. Electronic CodeBook – ECB) – jeden z najprostszych trybów szyfrowania wiadomości z wykorzystaniem szyfru blokowego. W trybie tym blok tekstu jawnego jest szyfrowany w blok szyfrogramu. Możliwe jest niezależne szyfrowanie oraz deszyfrowanie bloków wiadomości, takie zachowanie pozwala, teoretycznie, stworzyć książkę kodową tekstu jawnego i odpowiadającemu mu szyfrogramu, która będzie zawierała 2n różnych wpisów (n – długość bloku w bitach).\n",
    "\n",
    "Wadą tego trybu jest fakt, że kryptoanalitycy, dysponując kilkoma tekstami jawnymi i odpowiadającymi im szyfrogramami, mogą rozpocząć odtwarzanie książki kodowej – dla szyfrów z długimi kluczami całkowite odtworzenie książki kodowej jest jednak nierealne. Atakujący ma także możliwość zmiany wiadomości bez znajomości klucza.\n",
    "\n",
    "### CBC\n",
    "\n",
    "Tryb wiązania bloków zaszyfrowanych (z ang. Cipher Block Chaining – CBC) – jeden z trybów pracy szyfrów blokowych wykorzystujący sprzężenie zwrotne, samosynchronizujący się; w trybie tym blok tekstu jawnego jest sumowany modulo 2 z szyfrogramem poprzedzającego go bloku w związku z czym wynik szyfrowania jest zależny od poprzednich bloków. Pierwszy blok, przed zaszyfrowaniem, jest sumowany modulo dwa z losowo wygenerowanym wektorem początkowym IV (ang. initialization vector), wektor ten nie musi być utrzymywany w tajemnicy.\n",
    "\n",
    "### CFB\n",
    "\n",
    "Tryb sprzężenia zwrotnego szyfrogramu (z ang. Cipher Feedback – CFB) – jeden z trybów działania szyfrów blokowych, przeznaczony do szyfrowania strumieni danych. Szyfrowanie nie może być jednak rozpoczęte zanim nie zostanie odebrany pełny blok danych do zaszyfrowania.\n",
    "\n",
    "Szyfr blokowy działający w trybie sprzężenia zwrotnego szyfrogramu działa na rejestrze, który jest w stanie pomieścić pełny blok danych przeznaczonych do szyfrowania. Przed rozpoczęciem procedury szyfrowania rejestr ten wypełniany jest losowymi danymi, które umownie nazwane są wektorem początkowym (ang. IV - initialization vector). Zawartość tego rejestru jest szyfrowana a następnie n-skrajnych, lewych bitów jest sumowana modulo dwa z n pierwszymi bitami tekstu jawnego – w ten sposób powstaje pierwsze n-bitów szyfrogramu. Zaszyfrowane w ten sposób bity zapisywane są na n-skrajnych, prawych bitach kolejki, jednocześnie pozostałe bity kolejki przesuwane są w lewo i procedura szyfrowania jest powtarzana[1].\n",
    "\n",
    "Liczba n jest zależna od trybu CFB – możliwe jest szyfrowanie bit po bicie (1-bitowy CFB), bajt po bajcie (8-bitowy CFB) lub dowolne inne.\n",
    "\n",
    "-------------\n",
    "Źródło: [Wikipedia](https://pl.wikipedia.org/wiki/Szyfr_blokowy)"
   ]
  },
  {
   "cell_type": "markdown",
   "metadata": {},
   "source": [
    "## Prygotowanie"
   ]
  },
  {
   "cell_type": "markdown",
   "metadata": {},
   "source": [
    "### Wczytanie bibliotek"
   ]
  },
  {
   "cell_type": "code",
   "execution_count": 24,
   "metadata": {
    "ExecuteTime": {
     "end_time": "2019-10-16T09:09:25.437393Z",
     "start_time": "2019-10-16T09:09:25.434251Z"
    }
   },
   "outputs": [],
   "source": [
    "from Crypto.Cipher import DES,AES\n",
    "from Crypto.Random import get_random_bytes\n",
    "from typing import Iterable\n",
    "from itertools import product\n",
    "import math\n",
    "import hashlib\n",
    "import os\n",
    "from IPython.display import clear_output"
   ]
  },
  {
   "cell_type": "markdown",
   "metadata": {},
   "source": [
    "### Przydatne funkcje"
   ]
  },
  {
   "cell_type": "code",
   "execution_count": 2,
   "metadata": {
    "ExecuteTime": {
     "end_time": "2019-10-16T09:02:45.024836Z",
     "start_time": "2019-10-16T09:02:45.021116Z"
    }
   },
   "outputs": [],
   "source": [
    "def padd_data(data : bytes, block_size : int) -> bytes:\n",
    "    padding = ord('@')\n",
    "    diff = block_size - len(data) % block_size\n",
    "    \n",
    "    return data + bytes([padding] * diff)\n",
    "\n",
    "def strToCodes(string : str) -> Iterable[int]:\n",
    "    return (ord(c) for c in string)\n",
    "\n",
    "def codesToStr(codes : Iterable[int]) -> str:\n",
    "    return ''.join((chr(c) for c in codes))"
   ]
  },
  {
   "cell_type": "code",
   "execution_count": 54,
   "metadata": {
    "ExecuteTime": {
     "end_time": "2019-10-16T09:26:03.924021Z",
     "start_time": "2019-10-16T09:26:03.919595Z"
    }
   },
   "outputs": [
    {
     "name": "stdout",
     "output_type": "stream",
     "text": [
      "[########------------] 40%\n"
     ]
    }
   ],
   "source": [
    "def display_progres(procentage_done : float, bar_length = 20) -> None:\n",
    "    bar_length = 20\n",
    "    fill_length = round(bar_length * procentage_done)\n",
    "    \n",
    "    bar = '[{}{}]'.format('#' * fill_length, '-' * (bar_length - fill_length))\n",
    "    display = bar + f' {procentage_done:.0%}'\n",
    "    print(display)\n",
    "    \n",
    "    \n",
    "display_progres(0.4)"
   ]
  },
  {
   "cell_type": "code",
   "execution_count": 3,
   "metadata": {
    "ExecuteTime": {
     "end_time": "2019-10-16T09:02:45.045426Z",
     "start_time": "2019-10-16T09:02:45.027037Z"
    }
   },
   "outputs": [],
   "source": [
    "from PIL import Image\n",
    "from Crypto.Cipher import AES\n",
    "from Crypto.Random import get_random_bytes\n",
    " \n",
    "\n",
    "def expand_data(data):\n",
    "    return data + b\"\\x00\"*(16-len(data)%16) \n",
    " \n",
    "\n",
    "def convert_to_RGB(data):\n",
    "    pixels = []\n",
    "    counter = 2\n",
    "\n",
    "    for i in range(len(data)-1):\n",
    "        if counter == 2:\n",
    "            r = int(data[i])\n",
    "            g = int(data[i+1])\n",
    "            b = int(data[i+2])\n",
    "\n",
    "            pixels.append((r,g,b))\n",
    "            counter = 0\n",
    "        else:\n",
    "            counter += 1\n",
    "    return pixels\n",
    "\n",
    "\n",
    "def encrypt(input_filename,mode,key):\n",
    " \n",
    "    img_in = Image.open(input_filename)\n",
    "    data = img_in.convert(\"RGB\").tobytes() \n",
    " \n",
    "    data_expanded = expand_data(data)\n",
    "\n",
    "    if mode == \"CBC\":\n",
    "        iv = get_random_bytes(16)\n",
    "        aes = AES.new(key, AES.MODE_CBC, iv)\n",
    "    elif mode == \"ECB\":\n",
    "        aes = AES.new(key, AES.MODE_ECB)\n",
    "       \n",
    "    encrypted_data = convert_to_RGB(aes.encrypt(data_expanded)[:len(data)])\n",
    "    \n",
    "    img_out = Image.new(img_in.mode, img_in.size)\n",
    "    img_out.putdata(encrypted_data)\n",
    "    \n",
    "    name = ''.join(input_filename.split('.')[:-1])\n",
    "    img_format = str(input_filename.split('.')[-1])\n",
    "\n",
    "    output_filename = name + '_' + mode + '_encrypted.' + img_format\n",
    "\n",
    "    img_out.save(output_filename, img_format)"
   ]
  },
  {
   "cell_type": "markdown",
   "metadata": {},
   "source": [
    "### Szyfr DES"
   ]
  },
  {
   "cell_type": "code",
   "execution_count": 4,
   "metadata": {
    "ExecuteTime": {
     "end_time": "2019-10-16T09:02:45.054025Z",
     "start_time": "2019-10-16T09:02:45.047798Z"
    }
   },
   "outputs": [],
   "source": [
    "key = 'key12345'\n",
    "data = 'secret12'\n",
    "iv = get_random_bytes(8)\n",
    "print(data)\n",
    "\n",
    "des = DES.new(key, DES.MODE_CBC, iv)\n",
    "cryptogram = des.encrypt(data)\n",
    "print(cryptogram)\n",
    "\n",
    "des = DES.new(key, DES.MODE_CBC, iv)\n",
    "restored = des.decrypt(cryptogram)\n",
    "print(restored)"
   ]
  },
  {
   "cell_type": "markdown",
   "metadata": {},
   "source": [
    "### Szyfr AES"
   ]
  },
  {
   "cell_type": "code",
   "execution_count": 5,
   "metadata": {
    "ExecuteTime": {
     "end_time": "2019-10-16T09:02:45.060022Z",
     "start_time": "2019-10-16T09:02:45.055719Z"
    }
   },
   "outputs": [],
   "source": [
    "key = 'key4567890123456'\n",
    "data = 'Ala ma dwa koty.'\n",
    "iv = get_random_bytes(16)\n",
    "\n",
    "print(data)\n",
    "\n",
    "des = AES.new(key, DES.MODE_CBC, iv)\n",
    "cryptogram = des.encrypt(data)\n",
    "print(cryptogram)\n",
    "\n",
    "des = AES.new(key, DES.MODE_CBC, iv)\n",
    "restored = des.decrypt(cryptogram)\n",
    "print(restored)"
   ]
  },
  {
   "cell_type": "markdown",
   "metadata": {},
   "source": [
    "## Zadania z iSoda\n",
    "\n",
    "Zadania z iSoda"
   ]
  },
  {
   "cell_type": "markdown",
   "metadata": {},
   "source": [
    "### Zadanie 1\n",
    "\n",
    "Napisz algorytm obliczający entropię.  \n",
    "Implementacja na podstawie [artykułu](http://nfsec.pl/hakin9/entropy.pdf)."
   ]
  },
  {
   "cell_type": "code",
   "execution_count": 6,
   "metadata": {
    "ExecuteTime": {
     "end_time": "2019-10-16T09:02:45.067511Z",
     "start_time": "2019-10-16T09:02:45.062232Z"
    }
   },
   "outputs": [],
   "source": [
    "def entropy(data : bytes) -> float:\n",
    "    count = {i : 0 for i in range(256)}\n",
    "    for b in data: count[b] += 1\n",
    "    \n",
    "    p = lambda b: count[b] / len(data)\n",
    "    entropy = sum((p(b) * count[b] for b in range(256)))\n",
    "        \n",
    "    return 1 - entropy / len(data)\n",
    "\n",
    "def iSod_entropy(data : bytes) -> float:\n",
    "    count = {i : 0 for i in range(256)}\n",
    "    for b in data: count[b] += 1\n",
    "    p = lambda b: count[b] / len(data)\n",
    "    \n",
    "    entropy = 0\n",
    "    for b in range(256):\n",
    "        prob = p(b)\n",
    "        if prob > 0:\n",
    "            entropy += prob * math.log2(prob)\n",
    "#     entropy = -sum((p(b) * math.log2(p(b)) for b in range(256)))\n",
    "    return -entropy\n",
    "    "
   ]
  },
  {
   "cell_type": "markdown",
   "metadata": {},
   "source": [
    "### Zadanie 2\n",
    "\n",
    "Porównaj entropie tekstu naturalnego z entropia kryptogramu."
   ]
  },
  {
   "cell_type": "code",
   "execution_count": 7,
   "metadata": {
    "ExecuteTime": {
     "end_time": "2019-10-16T09:02:45.077183Z",
     "start_time": "2019-10-16T09:02:45.069366Z"
    }
   },
   "outputs": [
    {
     "name": "stdout",
     "output_type": "stream",
     "text": [
      "Entropia wiersza (pdf) = 0.952523347795931\n",
      "Entropia wiersza (iSod) = 4.9664311123485\n",
      "\n",
      "Entropia kryptogramu DES = 0.9957518951591002\n",
      "Entropia kryptogramu AES = 0.9957142168209877\n"
     ]
    }
   ],
   "source": [
    "poem = None\n",
    "with open('Dziewczyna.txt') as file:\n",
    "    poem = file.read()\n",
    "    \n",
    "e = entropy(poem.encode())\n",
    "print(f'Entropia wiersza (pdf) = {e}')\n",
    "\n",
    "e = iSod_entropy(poem.encode())\n",
    "print(f'Entropia wiersza (iSod) = {e}')\n",
    "print()\n",
    "\n",
    "key = 'key12345'\n",
    "iv = get_random_bytes(8)\n",
    "data = padd_data(poem.encode(), 8)\n",
    "\n",
    "des = DES.new(key, DES.MODE_CBC, iv)\n",
    "cryptogram = des.encrypt(data)\n",
    "\n",
    "e = entropy(cryptogram)\n",
    "print(f'Entropia kryptogramu DES = {e}')\n",
    "\n",
    "key = 'key4567890123456'\n",
    "iv = get_random_bytes(16)\n",
    "data = padd_data(poem.encode(), 16)\n",
    "\n",
    "des = AES.new(key, DES.MODE_CBC, iv)\n",
    "cryptogram = des.encrypt(data)\n",
    "\n",
    "e = entropy(cryptogram)\n",
    "print(f'Entropia kryptogramu AES = {e}')\n"
   ]
  },
  {
   "cell_type": "markdown",
   "metadata": {},
   "source": [
    "Wygląda na to, że entropia liczona metodą z iSoda nie jest noramlzowana."
   ]
  },
  {
   "cell_type": "markdown",
   "metadata": {},
   "source": [
    "### Zadanie 3\n",
    "\n",
    "Porównaj wynik szyfrowania w trybach ECB i CBC.  \n",
    "Jaka jest entropia kryptogramów?"
   ]
  },
  {
   "cell_type": "code",
   "execution_count": 8,
   "metadata": {
    "ExecuteTime": {
     "end_time": "2019-10-16T09:02:45.093046Z",
     "start_time": "2019-10-16T09:02:45.082153Z"
    }
   },
   "outputs": [
    {
     "name": "stdout",
     "output_type": "stream",
     "text": [
      "Syfr DES\n",
      "Entropia w trybie ECB: 0.9957271630418758\n",
      "Entropia w trybie CBC: 0.9957363769679006\n",
      "\n",
      "Syfr AES\n",
      "Entropia w trybie ECB: 0.9956987847222222\n",
      "Entropia w trybie CBC: 0.9957573784722222\n"
     ]
    }
   ],
   "source": [
    "poem\n",
    "with open('Dziewczyna.txt') as file:\n",
    "    poem = file.read()\n",
    "    \n",
    "print('Syfr DES')\n",
    "key = 'key12345'\n",
    "data = padd_data(poem.encode(), 8)\n",
    "\n",
    "des = DES.new(key, DES.MODE_ECB)\n",
    "e = entropy(des.encrypt(data))\n",
    "print(f'Entropia w trybie ECB: {e}')\n",
    "\n",
    "iv = get_random_bytes(8)\n",
    "des = DES.new(key, DES.MODE_CBC, iv)\n",
    "e = entropy(des.encrypt(data))\n",
    "print(f'Entropia w trybie CBC: {e}')\n",
    "\n",
    "# des_cbc = DES.new(key, DES.MODE_CBC)\n",
    "print('\\nSyfr AES')\n",
    "key = 'key4567890123456'\n",
    "data = padd_data(poem.encode(), 16)\n",
    "\n",
    "aes = AES.new(key, AES.MODE_ECB)\n",
    "e = entropy(aes.encrypt(data))\n",
    "print(f'Entropia w trybie ECB: {e}')\n",
    "\n",
    "iv = get_random_bytes(16)\n",
    "aes = AES.new(key, AES.MODE_CBC, iv)\n",
    "e = entropy(aes.encrypt(data))\n",
    "print(f'Entropia w trybie CBC: {e}')\n"
   ]
  },
  {
   "cell_type": "markdown",
   "metadata": {},
   "source": [
    "Teraz to samo, ale na obrazie"
   ]
  },
  {
   "cell_type": "code",
   "execution_count": 9,
   "metadata": {
    "ExecuteTime": {
     "end_time": "2019-10-16T09:02:45.251989Z",
     "start_time": "2019-10-16T09:02:45.095566Z"
    }
   },
   "outputs": [
    {
     "name": "stdout",
     "output_type": "stream",
     "text": [
      "Entropia orginału 5.051968777777436\n",
      "Entropia w trybie CBC 7.999024459472189\n",
      "Entropia w trybie EBC 7.705863173996502\n"
     ]
    }
   ],
   "source": [
    "file_name = 'demo24.bmp'\n",
    "key = 'key4567890123456'\n",
    "\n",
    "encrypted_CBC = encrypt(file_name, 'CBC', key)\n",
    "encrypted_ECB = encrypt(file_name, 'ECB', key)\n",
    "\n",
    "file_name1 = 'demo24_CBC_encrypted.bmp'\n",
    "\n",
    "with open(file_name, 'rb') as file:\n",
    "    data = file.read()\n",
    "    print(f'Entropia orginału {iSod_entropy(data)}')\n",
    "\n",
    "with open(file_name1, 'rb') as file:\n",
    "    data = file.read()\n",
    "    print(f'Entropia w trybie CBC {iSod_entropy(data)}')\n",
    "    \n",
    "file_name2 = 'demo24_ECB_encrypted.bmp'\n",
    "\n",
    "with open(file_name2, 'rb') as file:\n",
    "    data = file.read()\n",
    "    print(f'Entropia w trybie EBC {iSod_entropy(data)}')\n",
    "    \n",
    "    \n",
    "\n",
    "# print(f'Entropia w trybie CBC {iSod_entropy(encrypted_CBC)}')\n",
    "# print(f'Entropia w trybie ECB {iSod_entropy(encrypted_ECB)}')\n",
    "# print(encrypted_CBC)"
   ]
  },
  {
   "cell_type": "markdown",
   "metadata": {},
   "source": [
    "### Zadanie 4\n",
    "\n",
    "Napisz program szyfrujący pliki przy pomocy algorytmu AES w trybie CBC."
   ]
  },
  {
   "cell_type": "code",
   "execution_count": 10,
   "metadata": {
    "ExecuteTime": {
     "end_time": "2019-10-16T09:02:45.258440Z",
     "start_time": "2019-10-16T09:02:45.253825Z"
    }
   },
   "outputs": [],
   "source": [
    "from pathlib import Path\n",
    "\n",
    "def encryptFile(file_name : str, key : str) -> None:\n",
    "    data = None\n",
    "    with open(file_name, 'rb') as file: data = file.read()\n",
    "    data = padd_data(data, 16)\n",
    "    \n",
    "    aes = AES.new(key, AES.MODE_CBC, iv)\n",
    "    encrypted = aes.encrypt(data)\n",
    "        \n",
    "    new_file = Path(file_name).with_suffix('.aes')\n",
    "    with open(new_file, 'wb') as output: output.write(encrypted)\n",
    "        \n",
    "encryptFile('Dziewczyna.txt', 'key4567890123456')"
   ]
  },
  {
   "cell_type": "markdown",
   "metadata": {},
   "source": [
    "### Zadanie 5\n",
    "\n",
    "Zaproponuj algorytm tworzenia klucza na podstawie hasła podawanego przez człowieka."
   ]
  },
  {
   "cell_type": "markdown",
   "metadata": {},
   "source": [
    "Implementacja bazująca na algorytmie **KDF1**\n",
    "\n",
    "```\n",
    "INPUT:\n",
    "Z, shared secret, a byte string;\n",
    "Hash, hash function with output hLen bytes;\n",
    "kLen, intended length of keying material in bytes;\n",
    "[OtherInfo], optional extra shared material.\n",
    "OUTPUT: Derived key, K, of length kLen bytes.\n",
    "\n",
    "Set d = ceiling(kLen/hLen).\n",
    "Set T = \"\", the empty string.\n",
    "for Counter = 0 to d-1 do:\n",
    "    C = IntegerToString(Counter, 4)\n",
    "    T = T || Hash(Z || C || [OtherInfo])\n",
    "Output the first kLen bytes of T as K.\n",
    "```\n",
    "\n",
    "---------------\n",
    "[Źródło](https://web.archive.org/web/20101229081854/http://di-mgt.com.au/cryptoKDFs.html)"
   ]
  },
  {
   "cell_type": "code",
   "execution_count": 11,
   "metadata": {
    "ExecuteTime": {
     "end_time": "2019-10-16T09:02:45.268950Z",
     "start_time": "2019-10-16T09:02:45.260089Z"
    }
   },
   "outputs": [
    {
     "data": {
      "text/plain": [
       "b'\\xac\\xbfK\\\\\\xbd\\xe9\\xca\\xa4'"
      ]
     },
     "execution_count": 11,
     "metadata": {},
     "output_type": "execute_result"
    }
   ],
   "source": [
    "def create_key_KDF1(secret : bytes, hash_name : str, desired_length : int, salt : bytes = b'') -> bytes:\n",
    "    h = hashlib.new(hash_name)\n",
    "    d = math.ceil(desired_length / h.block_size)\n",
    "    T = b''\n",
    "    \n",
    "    for i in range(d):\n",
    "        c = i.to_bytes(4, byteorder='big')\n",
    "        h = hashlib.new(hash_name)\n",
    "        h.update(secret + c + salt)\n",
    "        T += h.digest()\n",
    "        \n",
    "    return T[:desired_length]\n",
    "        \n",
    "\n",
    "create_key_KDF1(b'aa', 'sha256', 8, b'02')"
   ]
  },
  {
   "cell_type": "markdown",
   "metadata": {},
   "source": [
    "Autorska implementacja\n",
    "\n",
    "Wielokrotne hashowanie poprzedniego wyniku i soli"
   ]
  },
  {
   "cell_type": "code",
   "execution_count": 12,
   "metadata": {
    "ExecuteTime": {
     "end_time": "2019-10-16T09:02:45.277367Z",
     "start_time": "2019-10-16T09:02:45.270852Z"
    }
   },
   "outputs": [
    {
     "data": {
      "text/plain": [
       "b'\\xc1h\\xb3w\\x06\\x99!\\xb1'"
      ]
     },
     "execution_count": 12,
     "metadata": {},
     "output_type": "execute_result"
    }
   ],
   "source": [
    "def create_key_simple(secret : bytes, desired_length : int, iterations : int, salt : bytes = b'') -> bytes:\n",
    "    if desired_length > hashlib.sha256().block_size:\n",
    "        raise ValueError(f'This function can create keys of max {hashlib.sha256().block_size} size. Recived {desired_length} lenght')\n",
    "    \n",
    "    result = secret\n",
    "    for i in range(iterations):\n",
    "        h = hashlib.sha256()\n",
    "        h.update(result)\n",
    "        h.update(salt)\n",
    "        result = h.digest()\n",
    "        \n",
    "    return result[:desired_length]\n",
    "\n",
    "\n",
    "create_key_simple(b'aa', 8, 1000, b'02')    "
   ]
  },
  {
   "cell_type": "markdown",
   "metadata": {},
   "source": [
    "Wykorzystanie funkcji z biblioteki"
   ]
  },
  {
   "cell_type": "code",
   "execution_count": 13,
   "metadata": {
    "ExecuteTime": {
     "end_time": "2019-10-16T09:02:45.330043Z",
     "start_time": "2019-10-16T09:02:45.279561Z"
    }
   },
   "outputs": [
    {
     "data": {
      "text/plain": [
       "b'\\x03\\x94\\xa2\\xed\\xe32\\xc9\\xa1'"
      ]
     },
     "execution_count": 13,
     "metadata": {},
     "output_type": "execute_result"
    }
   ],
   "source": [
    "hashlib.pbkdf2_hmac('sha256', b'password', b'salt', 100000, 8)"
   ]
  },
  {
   "cell_type": "markdown",
   "metadata": {},
   "source": [
    "### Zadanie 6\n",
    "\n",
    "Określ ile znaków [a-z] należy podać, żeby entropia hasła zbliżyła się do 256-bitowego klucza AES."
   ]
  },
  {
   "cell_type": "markdown",
   "metadata": {},
   "source": [
    "Na początek postaram się określić jaka jest entropia 256-bitowego klucza AES. Ponieważ w prawdopodobieństwo wystąpienia każdego znaku jest jednakowe mogę skożystać ze wzoru przedstawionego poniżej.\n",
    "\n",
    "\\begin{equation}\n",
    "H = k * \\log_2{n}\n",
    "\\end{equation}\n",
    "\n",
    "* **H** - entropia\n",
    "* **k** - długość hasła\n",
    "* **n** - moc alfabetu\n",
    "\n",
    "Ponieważ klucz jest 256-btowy składa się z 32 bajtów. Czyli **k** = 32  \n",
    "Każdy bajt może mieć 256 wartości. Czyli **n** = 256  \n",
    "\n",
    "Obliczam więc entropię klucza AES.\n",
    "\n",
    "\\begin{equation}\n",
    "H = 32 * \\log_2{256} = 256\n",
    "\\end{equation}\n",
    "\n",
    "Dla zanków [a-z] znana jest moc alfabetu. Pozostaje więc wyznaczyć długosć hasła tak by entropia była równa entropii klucza AES czyli wyniosła **256**.\n",
    "\n",
    "\\begin{equation}\n",
    "|[a-z]| = 26\n",
    "\\end{equation}\n",
    "\n",
    "\\begin{equation}\n",
    "H = k * log_2{26} \\Leftrightarrow{} H = 256 \\\\\n",
    "\\Downarrow{} \\\\\n",
    "k = 256 / log_2{26} \\approx 54.4630\n",
    "\\end{equation}\n",
    "\n",
    "Wynika z tego, że przy podaniu około **54** znaków z przedziału [a-z] entropia takiego ciągu będzie porównywalna do entropi 256-bitowego klucza AES."
   ]
  },
  {
   "cell_type": "code",
   "execution_count": 14,
   "metadata": {
    "ExecuteTime": {
     "end_time": "2019-10-16T09:02:45.335384Z",
     "start_time": "2019-10-16T09:02:45.332048Z"
    }
   },
   "outputs": [
    {
     "data": {
      "text/plain": [
       "3.169925001442312"
      ]
     },
     "execution_count": 14,
     "metadata": {},
     "output_type": "execute_result"
    }
   ],
   "source": [
    "ord('a') - ord('z')\n",
    "randomBytes = os.urandom(32)\n",
    "iSod_entropy(b'abcdefghi')"
   ]
  },
  {
   "cell_type": "markdown",
   "metadata": {},
   "source": [
    "### Zadanie 7\n",
    "\n",
    "Napisz program do ataku brutalnej siły na kryptogram przy wykorzystaniu entropii jako uniwersalnego kryterium zakończenia algorytmu."
   ]
  },
  {
   "cell_type": "code",
   "execution_count": 15,
   "metadata": {
    "ExecuteTime": {
     "end_time": "2019-10-16T09:02:45.341179Z",
     "start_time": "2019-10-16T09:02:45.337152Z"
    }
   },
   "outputs": [],
   "source": [
    "def bruteforceDES(cryptogram : bytes, keyAlphabet = range(256)) -> None:\n",
    "    entropyThreshold = 0.965\n",
    "\n",
    "    possibleKeys = product(keyAlphabet, repeat=8)\n",
    "    for k in possibleKeys:\n",
    "        k = codesToStr(k)\n",
    "        \n",
    "        des = DES.new(k, DES.MODE_ECB)\n",
    "        recovered = des.decrypt(cryptogram)\n",
    "        \n",
    "        e = entropy(recovered)\n",
    "        if e < entropyThreshold:\n",
    "            print('\\nZnaleziono rozwiązanie!\\n')\n",
    "            print(f'Klucz: {k}')\n",
    "            print(f'Wiadomość: {recovered}')\n",
    "            return\n",
    "\n",
    "    print(f'Nie znaleziono rozwiązania')\n",
    "        \n"
   ]
  },
  {
   "cell_type": "code",
   "execution_count": 16,
   "metadata": {
    "ExecuteTime": {
     "end_time": "2019-10-16T09:02:45.346523Z",
     "start_time": "2019-10-16T09:02:45.343023Z"
    }
   },
   "outputs": [],
   "source": [
    "key = 'abcabdbb'\n",
    "data = padd_data(poem.encode(), 8)\n",
    "\n",
    "des = DES.new(key, DES.MODE_ECB)\n",
    "cryptogram = des.encrypt(data)\n",
    "\n",
    "keyAlphabet = list(range(ord('a'), ord('e') + 1))\n",
    "# bruteforceDES(cryptogram, keyAlphabet)"
   ]
  },
  {
   "cell_type": "markdown",
   "metadata": {},
   "source": [
    "#### Dekryptowanie obrazu\n",
    "\n",
    "`iv = 'aaaaaaaaaaaaaaaa'`  \n",
    "Metoda: **CBC**  \n",
    "klucz powstał w sposób `key = PBKDF2(pass, b'abc')`  \n",
    "Hasł zkłada się z **3** znaków z zakresu [a-z]"
   ]
  },
  {
   "cell_type": "code",
   "execution_count": 17,
   "metadata": {
    "ExecuteTime": {
     "end_time": "2019-10-16T09:02:45.353518Z",
     "start_time": "2019-10-16T09:02:45.348910Z"
    }
   },
   "outputs": [],
   "source": [
    "from Crypto.Protocol.KDF import PBKDF2"
   ]
  },
  {
   "cell_type": "code",
   "execution_count": 55,
   "metadata": {
    "ExecuteTime": {
     "end_time": "2019-10-16T09:29:01.147454Z",
     "start_time": "2019-10-16T09:29:01.141741Z"
    }
   },
   "outputs": [],
   "source": [
    "def bruteforce_AES_CBC(cryptogram : bytes, iv : bytes, key_lenght : int = 3 ,keyAlphabet = list(range(256))) -> None:\n",
    "#     entropyThreshold = 0.965\n",
    "    entropyThreshold = 7.7    \n",
    "    \n",
    "    possibilities_count = len(keyAlphabet) ** key_lenght\n",
    "\n",
    "    possiblePasswords = product(keyAlphabet, repeat=key_lenght)\n",
    "    for i, password in enumerate(possiblePasswords):\n",
    "        plain_text_password = codesToStr(password)\n",
    "        salt = b'abc'\n",
    "        key = PBKDF2(password, salt)\n",
    "        \n",
    "        des = AES.new(key, AES.MODE_CBC, iv)\n",
    "        recovered = des.decrypt(cryptogram)\n",
    "#         e = entropy(recovered)\n",
    "        e = iSod_entropy(recovered)\n",
    "        \n",
    "        clear_output(True)\n",
    "        display_progres((i+1) / possibilities_count)\n",
    "        print(f'Hasło: {plain_text_password}      entropia: {e}')\n",
    "        \n",
    "        if e < entropyThreshold:\n",
    "            clear_output()\n",
    "            print('\\nZnaleziono rozwiązanie!\\n')\n",
    "            print(f'Hasło: {plain_text_password}')\n",
    "#             print(f'Wiadomość: {recovered}')\n",
    "            \n",
    "            rgb = convert_to_RGB(recovered)\n",
    "            img_out = Image.new(img_in.mode, img_in.size)\n",
    "            return plain_text_password\n",
    "\n",
    "    print(f'Nie znaleziono rozwiązania')\n",
    "        \n"
   ]
  },
  {
   "cell_type": "code",
   "execution_count": 57,
   "metadata": {
    "ExecuteTime": {
     "end_time": "2019-10-16T09:29:48.135976Z",
     "start_time": "2019-10-16T09:29:34.024189Z"
    }
   },
   "outputs": [
    {
     "name": "stdout",
     "output_type": "stream",
     "text": [
      "\n",
      "Znaleziono rozwiązanie!\n",
      "\n",
      "Hasło: fed\n"
     ]
    }
   ],
   "source": [
    "file_name = 'we800_CBC_encrypted.bmp'\n",
    "\n",
    "img_in = Image.open(file_name)\n",
    "data = img_in.convert(\"RGB\").tobytes() \n",
    "\n",
    "alphabet = list(range(ord('a'), ord('f') + 1))\n",
    "iv = b'a' * 16\n",
    "\n",
    "password = bruteforce_AES_CBC(data, iv, 3, alphabet)\n"
   ]
  },
  {
   "cell_type": "markdown",
   "metadata": {},
   "source": [
    "Odkodowanie obrazu"
   ]
  },
  {
   "cell_type": "code",
   "execution_count": 33,
   "metadata": {
    "ExecuteTime": {
     "end_time": "2019-10-16T09:16:33.966161Z",
     "start_time": "2019-10-16T09:16:33.772831Z"
    }
   },
   "outputs": [],
   "source": [
    "key = PBKDF2(password, b'abc')\n",
    "recovered = AES.new(key, AES.MODE_CBC, iv).decrypt(data)\n",
    "recovered = convert_to_RGB(recovered)\n",
    "# print(recovered[:20])\n",
    "\n",
    "img_out = Image.new(img_in.mode, img_in.size)\n",
    "img_out.putdata(recovered)\n",
    "img_out.save('Decrypted image.bmp', 'bmp')\n",
    "\n",
    "# password\n"
   ]
  },
  {
   "cell_type": "code",
   "execution_count": null,
   "metadata": {},
   "outputs": [],
   "source": []
  },
  {
   "cell_type": "code",
   "execution_count": null,
   "metadata": {},
   "outputs": [],
   "source": []
  }
 ],
 "metadata": {
  "kernelspec": {
   "display_name": "Python 3",
   "language": "python",
   "name": "python3"
  },
  "language_info": {
   "codemirror_mode": {
    "name": "ipython",
    "version": 3
   },
   "file_extension": ".py",
   "mimetype": "text/x-python",
   "name": "python",
   "nbconvert_exporter": "python",
   "pygments_lexer": "ipython3",
   "version": "3.7.3"
  }
 },
 "nbformat": 4,
 "nbformat_minor": 2
}
